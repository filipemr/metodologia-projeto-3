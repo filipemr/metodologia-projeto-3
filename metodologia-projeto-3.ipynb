{
 "cells": [
  {
   "cell_type": "markdown",
   "source": [
    "# Imports"
   ],
   "metadata": {
    "collapsed": false
   }
  },
  {
   "cell_type": "code",
   "execution_count": 2,
   "metadata": {
    "collapsed": true
   },
   "outputs": [],
   "source": [
    "import numpy as np\n",
    "import scipy.stats as stats\n",
    "import pandas as pd"
   ]
  },
  {
   "cell_type": "markdown",
   "source": [
    "# Datasets"
   ],
   "metadata": {
    "collapsed": false
   }
  },
  {
   "cell_type": "code",
   "execution_count": 3,
   "outputs": [],
   "source": [
    "bp_df = pd.read_csv('./datasets/bp.csv')\n",
    "paired_df = pd.read_csv('./datasets/paired.csv')"
   ],
   "metadata": {
    "collapsed": false
   }
  },
  {
   "cell_type": "markdown",
   "source": [
    "# Q1"
   ],
   "metadata": {
    "collapsed": false
   }
  },
  {
   "cell_type": "markdown",
   "source": [
    "### 1 - Reporte o p-valor da comparação entre a pressão sangüínea de pessoas diabéticas ou não."
   ],
   "metadata": {
    "collapsed": false
   }
  },
  {
   "cell_type": "code",
   "execution_count": 14,
   "outputs": [],
   "source": [
    "diabetics = bp_df[bp_df['type'] == 'Yes']['bp']\n",
    "non_diabetics = bp_df[bp_df['type'] == 'No']['bp']"
   ],
   "metadata": {
    "collapsed": false
   }
  },
  {
   "cell_type": "code",
   "execution_count": 12,
   "outputs": [
    {
     "name": "stdout",
     "output_type": "stream",
     "text": [
      "Student T-Test\n"
     ]
    },
    {
     "data": {
      "text/plain": "Ttest_indResult(statistic=3.001495202122035, pvalue=0.0030323591864622732)"
     },
     "execution_count": 12,
     "metadata": {},
     "output_type": "execute_result"
    }
   ],
   "source": [
    "print(\"Student T-Test\")\n",
    "stats.ttest_ind(diabetics, non_diabetics)"
   ],
   "metadata": {
    "collapsed": false
   }
  },
  {
   "cell_type": "code",
   "execution_count": 13,
   "outputs": [
    {
     "name": "stdout",
     "output_type": "stream",
     "text": [
      "Teste de Wilcoxon rank sum\n"
     ]
    },
    {
     "data": {
      "text/plain": "RanksumsResult(statistic=3.045797809294312, pvalue=0.0023206383267846886)"
     },
     "execution_count": 13,
     "metadata": {},
     "output_type": "execute_result"
    }
   ],
   "source": [
    "print(\"Teste de Wilcoxon rank sum\")\n",
    "stats.ranksums(diabetics, non_diabetics)"
   ],
   "metadata": {
    "collapsed": false
   }
  },
  {
   "cell_type": "markdown",
   "source": [
    "#### R: O p-valor é 0.003 no teste t e 0.002 no teste de wilcoxon."
   ],
   "metadata": {
    "collapsed": false
   }
  },
  {
   "cell_type": "markdown",
   "source": [
    "### 2 - Qual tem a maior pressão média? E maior pressão mediana?"
   ],
   "metadata": {
    "collapsed": false
   }
  },
  {
   "cell_type": "code",
   "execution_count": 10,
   "outputs": [
    {
     "name": "stdout",
     "output_type": "stream",
     "text": [
      "Diabéticos: Média = 74.58823529411765 Mediana = 76.0\n",
      "Não diabéticos: Média = 69.54545454545455 Mediana = 70.0\n"
     ]
    }
   ],
   "source": [
    "print(f\"Diabéticos: Média = {diabetics.mean()} Mediana = {diabetics.median()}\")\n",
    "print(f\"Não diabéticos: Média = {non_diabetics.mean()} Mediana = {non_diabetics.median()}\")"
   ],
   "metadata": {
    "collapsed": false
   }
  },
  {
   "cell_type": "markdown",
   "source": [
    "#### R: O grupo de diabéticos tem a maior média e a maior mediana de pressão."
   ],
   "metadata": {
    "collapsed": false
   }
  },
  {
   "cell_type": "markdown",
   "source": [
    "### 3 - A diferença é significativa?"
   ],
   "metadata": {
    "collapsed": false
   }
  },
  {
   "cell_type": "markdown",
   "source": [
    "#### R: Sim. Ambos os testes informaram p-valor menor que 0.05."
   ],
   "metadata": {
    "collapsed": false
   }
  },
  {
   "cell_type": "markdown",
   "source": [
    "### 4 - Discuta a diferença dos p-valores. Quais dos 2 testes você acha mais apropriado nesse caso?"
   ],
   "metadata": {
    "collapsed": false
   }
  },
  {
   "cell_type": "markdown",
   "source": [
    "#### R: O teste de Wilcoxon rank sum. Porque não sabemos os parâmetros da distribuição dos dados."
   ],
   "metadata": {
    "collapsed": false
   }
  },
  {
   "cell_type": "markdown",
   "source": [
    "# Q2"
   ],
   "metadata": {
    "collapsed": false
   }
  },
  {
   "cell_type": "markdown",
   "source": [
    "### 1 - Qual o mês com maior média e maior mediana?"
   ],
   "metadata": {
    "collapsed": false
   }
  },
  {
   "cell_type": "code",
   "execution_count": 17,
   "outputs": [
    {
     "name": "stdout",
     "output_type": "stream",
     "text": [
      "Agosto: Média = 11.423076923076925 Mediana = 10.0\n",
      "Novembro: Média = 16.323076923076922 Mediana = 15.3\n"
     ]
    }
   ],
   "source": [
    "print(f\"Agosto: Média = {paired_df['August'].mean()} Mediana = {paired_df['August'].median()}\")\n",
    "print(f\"Novembro: Média = {paired_df['November'].mean()} Mediana = {paired_df['November'].median()}\")"
   ],
   "metadata": {
    "collapsed": false
   }
  },
  {
   "cell_type": "markdown",
   "source": [
    "#### R: Novembro."
   ],
   "metadata": {
    "collapsed": false
   }
  },
  {
   "cell_type": "markdown",
   "source": [
    "### 2 - A diferença é significativa?"
   ],
   "metadata": {
    "collapsed": false
   }
  },
  {
   "cell_type": "code",
   "execution_count": 21,
   "outputs": [
    {
     "name": "stdout",
     "output_type": "stream",
     "text": [
      "Student T-Test pareado\n"
     ]
    },
    {
     "data": {
      "text/plain": "Ttest_relResult(statistic=-2.3088956550760438, pvalue=0.03955525086687241)"
     },
     "execution_count": 21,
     "metadata": {},
     "output_type": "execute_result"
    }
   ],
   "source": [
    "print(\"Student T-Test pareado\")\n",
    "stats.ttest_rel(paired_df['August'], paired_df['November'])"
   ],
   "metadata": {
    "collapsed": false
   }
  },
  {
   "cell_type": "code",
   "execution_count": 23,
   "outputs": [
    {
     "name": "stdout",
     "output_type": "stream",
     "text": [
      "Teste de Wilcoxon signed rank\n"
     ]
    },
    {
     "data": {
      "text/plain": "WilcoxonResult(statistic=16.0, pvalue=0.039794921875)"
     },
     "execution_count": 23,
     "metadata": {},
     "output_type": "execute_result"
    }
   ],
   "source": [
    "print(\"Teste de Wilcoxon signed rank\")\n",
    "stats.wilcoxon(paired_df['August'], paired_df['November'])"
   ],
   "metadata": {
    "collapsed": false
   }
  },
  {
   "cell_type": "markdown",
   "source": [
    "#### R: Sim. Ambos os testes informaram p-valor menor que 0.05."
   ],
   "metadata": {
    "collapsed": false
   }
  },
  {
   "cell_type": "markdown",
   "source": [
    "### 3 - Discuta a diferença dos p-valores. Quais dos 2 testes você acha mais apropriado nesse caso?"
   ],
   "metadata": {
    "collapsed": false
   }
  },
  {
   "cell_type": "markdown",
   "source": [
    "#### R: A diferença foi mínima entre os dois testes, em décimo de milésimo. Novamente, os não paramétricos (Wilcoxon). Pois, não sei qual é a distribuição geradora dos dados."
   ],
   "metadata": {
    "collapsed": false
   }
  }
 ],
 "metadata": {
  "kernelspec": {
   "display_name": "Python 3",
   "language": "python",
   "name": "python3"
  },
  "language_info": {
   "codemirror_mode": {
    "name": "ipython",
    "version": 2
   },
   "file_extension": ".py",
   "mimetype": "text/x-python",
   "name": "python",
   "nbconvert_exporter": "python",
   "pygments_lexer": "ipython2",
   "version": "2.7.6"
  }
 },
 "nbformat": 4,
 "nbformat_minor": 0
}
