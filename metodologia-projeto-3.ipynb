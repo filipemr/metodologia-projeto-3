{
 "cells": [
  {
   "cell_type": "markdown",
   "source": [
    "# Imports"
   ],
   "metadata": {
    "collapsed": false
   }
  },
  {
   "cell_type": "code",
   "execution_count": 20,
   "metadata": {
    "collapsed": true
   },
   "outputs": [],
   "source": [
    "import numpy as np\n",
    "import scipy.stats as stats\n",
    "import pandas as pd\n",
    "from math import sqrt"
   ]
  },
  {
   "cell_type": "markdown",
   "source": [
    "# Datasets"
   ],
   "metadata": {
    "collapsed": false
   }
  },
  {
   "cell_type": "code",
   "execution_count": 2,
   "outputs": [],
   "source": [
    "bp_df = pd.read_csv('./datasets/bp.csv')\n",
    "paired_df = pd.read_csv('./datasets/paired.csv')"
   ],
   "metadata": {
    "collapsed": false
   }
  },
  {
   "cell_type": "markdown",
   "source": [
    "# Q1"
   ],
   "metadata": {
    "collapsed": false
   }
  },
  {
   "cell_type": "markdown",
   "source": [
    "### 1 - Reporte o p-valor da comparação entre a pressão sangüínea de pessoas diabéticas ou não."
   ],
   "metadata": {
    "collapsed": false
   }
  },
  {
   "cell_type": "code",
   "execution_count": 3,
   "outputs": [],
   "source": [
    "diabetics = bp_df[bp_df['type'] == 'Yes']['bp']\n",
    "non_diabetics = bp_df[bp_df['type'] == 'No']['bp']"
   ],
   "metadata": {
    "collapsed": false
   }
  },
  {
   "cell_type": "code",
   "execution_count": 4,
   "outputs": [
    {
     "name": "stdout",
     "output_type": "stream",
     "text": [
      "Student T-Test\n"
     ]
    },
    {
     "data": {
      "text/plain": "Ttest_indResult(statistic=3.001495202122035, pvalue=0.0030323591864622732)"
     },
     "execution_count": 4,
     "metadata": {},
     "output_type": "execute_result"
    }
   ],
   "source": [
    "print(\"Student T-Test\")\n",
    "stats.ttest_ind(diabetics, non_diabetics)"
   ],
   "metadata": {
    "collapsed": false
   }
  },
  {
   "cell_type": "code",
   "execution_count": 5,
   "outputs": [
    {
     "name": "stdout",
     "output_type": "stream",
     "text": [
      "Teste de Wilcoxon rank sum\n"
     ]
    },
    {
     "data": {
      "text/plain": "RanksumsResult(statistic=3.045797809294312, pvalue=0.0023206383267846886)"
     },
     "execution_count": 5,
     "metadata": {},
     "output_type": "execute_result"
    }
   ],
   "source": [
    "print(\"Teste de Wilcoxon rank sum\")\n",
    "stats.ranksums(diabetics, non_diabetics)"
   ],
   "metadata": {
    "collapsed": false
   }
  },
  {
   "cell_type": "markdown",
   "source": [
    "#### R: O p-valor é 0.003 no teste t e 0.002 no teste de wilcoxon."
   ],
   "metadata": {
    "collapsed": false
   }
  },
  {
   "cell_type": "markdown",
   "source": [
    "### 2 - Qual tem a maior pressão média? E maior pressão mediana?"
   ],
   "metadata": {
    "collapsed": false
   }
  },
  {
   "cell_type": "code",
   "execution_count": 6,
   "outputs": [
    {
     "name": "stdout",
     "output_type": "stream",
     "text": [
      "Diabéticos: Média = 74.58823529411765 Mediana = 76.0\n",
      "Não diabéticos: Média = 69.54545454545455 Mediana = 70.0\n"
     ]
    }
   ],
   "source": [
    "print(f\"Diabéticos: Média = {diabetics.mean()} Mediana = {diabetics.median()}\")\n",
    "print(f\"Não diabéticos: Média = {non_diabetics.mean()} Mediana = {non_diabetics.median()}\")"
   ],
   "metadata": {
    "collapsed": false
   }
  },
  {
   "cell_type": "markdown",
   "source": [
    "#### R: O grupo de diabéticos tem a maior média e a maior mediana de pressão."
   ],
   "metadata": {
    "collapsed": false
   }
  },
  {
   "cell_type": "markdown",
   "source": [
    "### 3 - A diferença é significativa?"
   ],
   "metadata": {
    "collapsed": false
   }
  },
  {
   "cell_type": "markdown",
   "source": [
    "#### R: Sim. Ambos os testes informaram p-valor menor que 0.05."
   ],
   "metadata": {
    "collapsed": false
   }
  },
  {
   "cell_type": "markdown",
   "source": [
    "### 4 - Discuta a diferença dos p-valores. Quais dos 2 testes você acha mais apropriado nesse caso?"
   ],
   "metadata": {
    "collapsed": false
   }
  },
  {
   "cell_type": "markdown",
   "source": [
    "#### R: O teste de Wilcoxon rank sum. Porque não sabemos os parâmetros da distribuição dos dados."
   ],
   "metadata": {
    "collapsed": false
   }
  },
  {
   "cell_type": "markdown",
   "source": [
    "# Q2"
   ],
   "metadata": {
    "collapsed": false
   }
  },
  {
   "cell_type": "markdown",
   "source": [
    "### 1 - Qual o mês com maior média e maior mediana?"
   ],
   "metadata": {
    "collapsed": false
   }
  },
  {
   "cell_type": "code",
   "execution_count": 7,
   "outputs": [
    {
     "name": "stdout",
     "output_type": "stream",
     "text": [
      "Agosto: Média = 11.423076923076925 Mediana = 10.0\n",
      "Novembro: Média = 16.323076923076922 Mediana = 15.3\n"
     ]
    }
   ],
   "source": [
    "print(f\"Agosto: Média = {paired_df['August'].mean()} Mediana = {paired_df['August'].median()}\")\n",
    "print(f\"Novembro: Média = {paired_df['November'].mean()} Mediana = {paired_df['November'].median()}\")"
   ],
   "metadata": {
    "collapsed": false
   }
  },
  {
   "cell_type": "markdown",
   "source": [
    "#### R: Novembro."
   ],
   "metadata": {
    "collapsed": false
   }
  },
  {
   "cell_type": "markdown",
   "source": [
    "### 2 - A diferença é significativa?"
   ],
   "metadata": {
    "collapsed": false
   }
  },
  {
   "cell_type": "code",
   "execution_count": 8,
   "outputs": [
    {
     "name": "stdout",
     "output_type": "stream",
     "text": [
      "Student T-Test pareado\n"
     ]
    },
    {
     "data": {
      "text/plain": "Ttest_relResult(statistic=-2.3088956550760438, pvalue=0.03955525086687241)"
     },
     "execution_count": 8,
     "metadata": {},
     "output_type": "execute_result"
    }
   ],
   "source": [
    "print(\"Student T-Test pareado\")\n",
    "stats.ttest_rel(paired_df['August'], paired_df['November'])"
   ],
   "metadata": {
    "collapsed": false
   }
  },
  {
   "cell_type": "code",
   "execution_count": 9,
   "outputs": [
    {
     "name": "stdout",
     "output_type": "stream",
     "text": [
      "Teste de Wilcoxon signed rank\n"
     ]
    },
    {
     "data": {
      "text/plain": "WilcoxonResult(statistic=16.0, pvalue=0.039794921875)"
     },
     "execution_count": 9,
     "metadata": {},
     "output_type": "execute_result"
    }
   ],
   "source": [
    "print(\"Teste de Wilcoxon signed rank\")\n",
    "stats.wilcoxon(paired_df['August'], paired_df['November'])"
   ],
   "metadata": {
    "collapsed": false
   }
  },
  {
   "cell_type": "markdown",
   "source": [
    "#### R: Sim. Ambos os testes informaram p-valor menor que 0.05."
   ],
   "metadata": {
    "collapsed": false
   }
  },
  {
   "cell_type": "markdown",
   "source": [
    "### 3 - Discuta a diferença dos p-valores. Quais dos 2 testes você acha mais apropriado nesse caso?"
   ],
   "metadata": {
    "collapsed": false
   }
  },
  {
   "cell_type": "markdown",
   "source": [
    "#### R: A diferença foi mínima entre os dois testes, em décimo de milésimo. Novamente, os não paramétricos (Wilcoxon). Pois, não sei qual é a distribuição geradora dos dados."
   ],
   "metadata": {
    "collapsed": false
   }
  },
  {
   "cell_type": "markdown",
   "source": [
    "# Q3"
   ],
   "metadata": {
    "collapsed": false
   }
  },
  {
   "cell_type": "markdown",
   "source": [
    "Use os dados (não pareados) do dataset bp.csv.\n",
    "- Gere o intervalo de confiança para a pressão sangüínea dos pacientes com diabetes e sem diabetes (intervalo de 95% de confiança) usando o método de bootstrap"
   ],
   "metadata": {
    "collapsed": false
   }
  },
  {
   "cell_type": "code",
   "execution_count": 15,
   "outputs": [
    {
     "name": "stdout",
     "output_type": "stream",
     "text": [
      "IC da pressão dos diabéticos:ConfidenceInterval(low=71.77941176470588, high=77.29411764705883).\n",
      "IC da pressão dos não diabéticos:ConfidenceInterval(low=67.6590909090909, high=71.47727272727273).\n"
     ]
    }
   ],
   "source": [
    "bp_diabetics = (diabetics,)\n",
    "bootstrap_ci = stats.bootstrap(bp_diabetics, np.mean, confidence_level=0.95, random_state=1, method='BCa')\n",
    "print(f\"IC da pressão dos diabéticos:{bootstrap_ci.confidence_interval}.\")\n",
    "bp_non_diabetics = (non_diabetics,)\n",
    "bootstrap_ci = stats.bootstrap(bp_non_diabetics, np.mean, confidence_level=0.95, random_state=1, method='BCa')\n",
    "print(f\"IC da pressão dos não diabéticos:{bootstrap_ci.confidence_interval}.\")"
   ],
   "metadata": {
    "collapsed": false
   }
  },
  {
   "cell_type": "markdown",
   "source": [
    "# Q4 - Teste Visual"
   ],
   "metadata": {
    "collapsed": false
   }
  },
  {
   "cell_type": "markdown",
   "source": [
    " ### Há intersecção entre os intervalos de confiança dos 2 conjuntos de dados acima (com diabetes e sem diabetes)?"
   ],
   "metadata": {
    "collapsed": false
   }
  },
  {
   "cell_type": "markdown",
   "source": [
    "Não há interseção."
   ],
   "metadata": {
    "collapsed": false
   }
  },
  {
   "cell_type": "markdown",
   "source": [
    "### Isso está de acordo com o teste de diferença significativa entre eles feito na questão 1?"
   ],
   "metadata": {
    "collapsed": false
   }
  },
  {
   "cell_type": "markdown",
   "source": [
    "O resultado está em acordo com os testes de diferença de significativa, já que os intervalos de confiança não apresentam interseção."
   ],
   "metadata": {
    "collapsed": false
   }
  },
  {
   "cell_type": "markdown",
   "source": [
    "# Q5"
   ],
   "metadata": {
    "collapsed": false
   }
  },
  {
   "cell_type": "markdown",
   "source": [
    "### Calcule o Cohen D com o pooled standard deviation para a diferença entre a pressão sangüínea de pacientes com e sem diabetes."
   ],
   "metadata": {
    "collapsed": false
   }
  },
  {
   "cell_type": "code",
   "execution_count": 21,
   "outputs": [],
   "source": [
    "def cohend(d1, d2):\n",
    "\t# calculate the size of samples\n",
    "\tn1, n2 = len(d1), len(d2)\n",
    "\t# calculate the variance of the samples\n",
    "\ts1, s2 = np.var(d1, ddof=1), np.var(d2, ddof=1)\n",
    "\t# calculate the pooled standard deviation\n",
    "\ts = sqrt(((n1 - 1) * s1 + (n2 - 1) * s2) / (n1 + n2 - 2))\n",
    "\t# calculate the means of the samples\n",
    "\tu1, u2 = np.mean(d1), np.mean(d2)\n",
    "\t# calculate the effect size\n",
    "\treturn (u1 - u2) / s"
   ],
   "metadata": {
    "collapsed": false
   }
  },
  {
   "cell_type": "code",
   "execution_count": 25,
   "outputs": [
    {
     "name": "stdout",
     "output_type": "stream",
     "text": [
      "Cohens'd: 0.448\n"
     ]
    }
   ],
   "source": [
    "d = cohend(diabetics, non_diabetics)\n",
    "print(f\"Cohens'd: {d:.3f}\")"
   ],
   "metadata": {
    "collapsed": false
   }
  },
  {
   "cell_type": "markdown",
   "source": [
    "# Q6"
   ],
   "metadata": {
    "collapsed": false
   }
  },
  {
   "cell_type": "markdown",
   "source": [
    "### Com base nos testes, intervalos de confiança, etc realizados acima sobre o dataset bp.csv, qual a sua conclusão sobre pressão arterial em pacientes com ou sem diabetes?"
   ],
   "metadata": {
    "collapsed": false
   }
  },
  {
   "cell_type": "markdown",
   "source": [
    "Que a diabetes causa aumento da pressão arterial."
   ],
   "metadata": {
    "collapsed": false
   }
  }
 ],
 "metadata": {
  "kernelspec": {
   "display_name": "Python 3",
   "language": "python",
   "name": "python3"
  },
  "language_info": {
   "codemirror_mode": {
    "name": "ipython",
    "version": 2
   },
   "file_extension": ".py",
   "mimetype": "text/x-python",
   "name": "python",
   "nbconvert_exporter": "python",
   "pygments_lexer": "ipython2",
   "version": "2.7.6"
  }
 },
 "nbformat": 4,
 "nbformat_minor": 0
}
